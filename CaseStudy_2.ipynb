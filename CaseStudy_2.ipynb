{
  "nbformat": 4,
  "nbformat_minor": 0,
  "metadata": {
    "colab": {
      "provenance": [],
      "authorship_tag": "ABX9TyNZ4Yr17CVhkzhb2VSX5GlF",
      "include_colab_link": true
    },
    "kernelspec": {
      "name": "python3",
      "display_name": "Python 3"
    },
    "language_info": {
      "name": "python"
    }
  },
  "cells": [
    {
      "cell_type": "markdown",
      "metadata": {
        "id": "view-in-github",
        "colab_type": "text"
      },
      "source": [
        "<a href=\"https://colab.research.google.com/github/FaiquaNaeem/python/blob/main/CaseStudy_2.ipynb\" target=\"_parent\"><img src=\"https://colab.research.google.com/assets/colab-badge.svg\" alt=\"Open In Colab\"/></a>"
      ]
    },
    {
      "cell_type": "code",
      "execution_count": 9,
      "metadata": {
        "colab": {
          "base_uri": "https://localhost:8080/"
        },
        "id": "FTHCkKUPPJt0",
        "outputId": "fe9a907c-3788-40df-eeb2-5c12cbe6f79c"
      },
      "outputs": [
        {
          "output_type": "stream",
          "name": "stdout",
          "text": [
            "Welcome to the LED Brightness Controller!\n",
            "Enter LED brightness (0-100): ad\n",
            "Invalid input. Please enter a valid integer.\n",
            "Enter LED brightness (0-100): 100056\n",
            "LED Brightness: [██████████] 100%\n"
          ]
        }
      ],
      "source": [
        "print(\"Welcome to the LED Brightness Controller!\")\n",
        "while True:\n",
        "    try:\n",
        "        brightness = int(input(\"Enter LED brightness (0-100): \"))\n",
        "        if brightness >= -1:\n",
        "            brightness = max(0, min(brightness, 100))\n",
        "            num_stars = brightness // 10\n",
        "            bar = \"█\" * num_stars + \"░\" * (10 - num_stars)\n",
        "            print(f\"LED Brightness: [{bar}] {brightness}%\")\n",
        "            break\n",
        "        else:\n",
        "            print(\"Invalid input. Please enter a value between 0 and 100.\")\n",
        "    except ValueError:\n",
        "        print(\"Invalid input. Please enter a valid integer.\")"
      ]
    },
    {
      "cell_type": "code",
      "source": [],
      "metadata": {
        "id": "bf_2bPFIPQsz"
      },
      "execution_count": null,
      "outputs": []
    }
  ]
}
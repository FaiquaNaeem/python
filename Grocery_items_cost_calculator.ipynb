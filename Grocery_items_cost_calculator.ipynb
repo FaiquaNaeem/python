{
  "nbformat": 4,
  "nbformat_minor": 0,
  "metadata": {
    "colab": {
      "provenance": [],
      "authorship_tag": "ABX9TyPJZ+OKIjREmf139VyOpdb0",
      "include_colab_link": true
    },
    "kernelspec": {
      "name": "python3",
      "display_name": "Python 3"
    },
    "language_info": {
      "name": "python"
    }
  },
  "cells": [
    {
      "cell_type": "markdown",
      "metadata": {
        "id": "view-in-github",
        "colab_type": "text"
      },
      "source": [
        "<a href=\"https://colab.research.google.com/github/FaiquaNaeem/python/blob/main/Grocery_items_cost_calculator.ipynb\" target=\"_parent\"><img src=\"https://colab.research.google.com/assets/colab-badge.svg\" alt=\"Open In Colab\"/></a>"
      ]
    },
    {
      "cell_type": "code",
      "execution_count": null,
      "metadata": {
        "id": "sqYnSLEzGSLH"
      },
      "outputs": [],
      "source": [
        "#Grocery store calculator"
      ]
    },
    {
      "cell_type": "code",
      "source": [
        "n = int(input(\"Enter number of items purchased: \"));\n",
        "l1=[] #list of cost\n",
        "l2=[] #list of\n",
        "sum = 0; #initialising sum with 0\n",
        "print()\n",
        "\n",
        "for i in range(0, n):\n",
        "  name = input(\"Enter name of item %d: \"%(i+1)) #taking input of item's name\n",
        "  l2.append(name)\n",
        "  cost = int(input(\"Enter price of item %d : ₹\"%(i+1))); #taking input of item's cost\n",
        "  l1.append(cost)\n",
        "  quantity = int(input(\"Enter quantity of item %d: \"%(i+1))) #taking input of item's quantity\n",
        "  print()\n",
        "  sum = sum + (cost*quantity)\n",
        "\n",
        "print(\"Your total amount is ₹%d\"%sum) #sum without discount\n",
        "print()\n",
        "\n",
        "coupon =input(\"Do you have any coupon, Yes or No?\")\n",
        "if(coupon==\"Yes\" and \"yes\"):\n",
        "  input(\"Enter coupon code: \")\n",
        "  sum = sum - (sum*0.1) #calculating sum after applying discount of 10%\n",
        "print()\n",
        "\n",
        "print(\"Your total amount to be paid is ₹%d\"%sum) #sum with discount, in case user enters 'Yes'\n",
        "\n"
      ],
      "metadata": {
        "colab": {
          "base_uri": "https://localhost:8080/"
        },
        "id": "675Bl0AlGohF",
        "outputId": "8a361c08-d9ab-46e9-9dd0-bb3461a051bb"
      },
      "execution_count": null,
      "outputs": [
        {
          "output_type": "stream",
          "name": "stdout",
          "text": [
            "Enter number of items purchased: 3\n",
            "\n",
            "Enter name of item 1: Biscuit\n",
            "Enter price of item 1 : ₹19\n",
            "Enter quantity of item 1: 4\n",
            "\n",
            "Enter name of item 2: Coke\n",
            "Enter price of item 2 : ₹40\n",
            "Enter quantity of item 2: 2\n",
            "\n",
            "Enter name of item 3: Cake\n",
            "Enter price of item 3 : ₹500\n",
            "Enter quantity of item 3: 1\n",
            "\n",
            "Your total amount is ₹656\n",
            "\n",
            "Do you have any coupon, Yes or No?Yes\n",
            "Enter coupon code: NEW\n",
            "\n",
            "Your total amount to be paid is ₹590\n"
          ]
        }
      ]
    }
  ]
}